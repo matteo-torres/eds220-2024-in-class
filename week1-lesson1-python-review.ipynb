{
 "cells": [
  {
   "cell_type": "markdown",
   "id": "6ac63281-af24-4726-9f67-b90f66ef3d11",
   "metadata": {},
   "source": [
    "# Python Review\n",
    "\n",
    "Short review about some core concepts in Python exempolified by objects in the NumPy library.\n",
    "Goals:\n",
    "\n",
    "- recall basic Python vocabulary\n",
    "- practice markdown syntax\n",
    "\n",
    "## Libraries and Packges\n",
    "\n",
    "**library:** is a collection of the code that we can use to perform specific tasks in our programs. It can be a single file or multiple files.\n",
    "\n",
    "**NumPy:**\n",
    "\n",
    "- core library for numerical computing in Python\n",
    "- many of libraries us NumPy arrays as their building blocks\n",
    "- computations on NumPy objects are optimized for speed and memory usage\n",
    "\n",
    "Let's import NumPy with its **standard abbreviations** `np`:"
   ]
  },
  {
   "cell_type": "code",
   "execution_count": 1,
   "id": "7d053bc4-3c44-4c71-b896-b75dd63159fe",
   "metadata": {
    "tags": []
   },
   "outputs": [],
   "source": [
    "import numpy as np"
   ]
  },
  {
   "cell_type": "markdown",
   "id": "b435aebf-1790-4c06-b3bc-43d51529ba81",
   "metadata": {},
   "source": [
    "(esc + press M -> convert code to markdown cell)\n",
    "## Variables\n",
    "\n",
    "**variable:** a name we assign to a particular object in Python\n",
    "\n",
    "Example:"
   ]
  },
  {
   "cell_type": "code",
   "execution_count": 2,
   "id": "694649e2-245d-4a5d-bf97-d7dfc679f139",
   "metadata": {
    "tags": []
   },
   "outputs": [],
   "source": [
    "# Assign a small array to variable a\n",
    "a = np.array([[1, 1, 2], [3, 5, 8]])"
   ]
  },
  {
   "cell_type": "markdown",
   "id": "d41db44e-2934-4610-a40d-c92a5d2fa449",
   "metadata": {},
   "source": [
    "To view a variable's value from our Jupyter notebook:"
   ]
  },
  {
   "cell_type": "code",
   "execution_count": 3,
   "id": "e3605401-81f4-47c5-b380-f1e02f613c04",
   "metadata": {
    "tags": []
   },
   "outputs": [
    {
     "data": {
      "text/plain": [
       "array([[1, 1, 2],\n",
       "       [3, 5, 8]])"
      ]
     },
     "execution_count": 3,
     "metadata": {},
     "output_type": "execute_result"
    }
   ],
   "source": [
    "# Run cell with variable name to show value\n",
    "a"
   ]
  },
  {
   "cell_type": "code",
   "execution_count": 4,
   "id": "601410ed-15b4-44f6-9f87-4f7553b50f6f",
   "metadata": {
    "tags": []
   },
   "outputs": [
    {
     "name": "stdout",
     "output_type": "stream",
     "text": [
      "[[1 1 2]\n",
      " [3 5 8]]\n"
     ]
    }
   ],
   "source": [
    "# Use `print` function to print the value\n",
    "print(a)"
   ]
  },
  {
   "cell_type": "markdown",
   "id": "2541f824-4193-4904-a309-88df283b84c3",
   "metadata": {},
   "source": [
    "## Convention: Use `snake case` for naming variables\n",
    "\n",
    "This is the convention we will use in the course. Why? `my-variable` or `MyVariable` or `myVariable`,\n",
    "PEP 8 - Style Guide for Python Code recommends snake_case\n",
    "\n",
    "**Remeber that variable names should be both descriptive and concise!**\n",
    "\n",
    "## Objects\n",
    "\n",
    "**object:** (informally speaking) is a bundle of *properties* and *actions* about something specific.\n",
    "\n",
    "Example:\n",
    "\n",
    "Object: data frame\n",
    "Properties: number of rows, name of columns, and date created\n",
    "Actions: selecting a specific row or adding a new column\n",
    "\n",
    "A variable is the name we give a specific object, and the same object can be referenced by different variables.\n",
    "\n",
    "In practice, we can often use the word variable and object intercahngeably.\n",
    "\n",
    "## Types\n",
    "\n",
    "Every object in Python has a **type**, the type tells us what kind of object we have.\n",
    "We can also call the type of an object, the **class** of an object. So calss and object mean what kind of object we have."
   ]
  },
  {
   "cell_type": "code",
   "execution_count": 5,
   "id": "813038e6-73e2-467a-a8db-d7ee17f4a33d",
   "metadata": {
    "tags": []
   },
   "outputs": [
    {
     "name": "stdout",
     "output_type": "stream",
     "text": [
      "[[1 1 2]\n",
      " [3 5 8]]\n"
     ]
    }
   ],
   "source": [
    "print(a)"
   ]
  },
  {
   "cell_type": "code",
   "execution_count": 6,
   "id": "6192ea4f-8bac-42d7-bc1d-2122c5f7cee2",
   "metadata": {
    "tags": []
   },
   "outputs": [
    {
     "data": {
      "text/plain": [
       "numpy.ndarray"
      ]
     },
     "execution_count": 6,
     "metadata": {},
     "output_type": "execute_result"
    }
   ],
   "source": [
    "# See the type/class of a variabel/object by using `type` function\n",
    "type(a)"
   ]
  },
  {
   "cell_type": "markdown",
   "id": "072cee6a-443d-4b85-bf4d-b00c2096515e",
   "metadata": {},
   "source": [
    "The `numpy.ndarray` is the ore object/data type of the NumPy package."
   ]
  },
  {
   "cell_type": "code",
   "execution_count": 7,
   "id": "30ff0cbf-10f7-42e1-9caf-afd3ad3402c8",
   "metadata": {
    "tags": []
   },
   "outputs": [
    {
     "name": "stdout",
     "output_type": "stream",
     "text": [
      "1\n"
     ]
    },
    {
     "data": {
      "text/plain": [
       "numpy.int64"
      ]
     },
     "execution_count": 7,
     "metadata": {},
     "output_type": "execute_result"
    }
   ],
   "source": [
    "print(a[0, 0])\n",
    "\n",
    "type(a[0, 0])"
   ]
  },
  {
   "cell_type": "markdown",
   "id": "29b914b9-923a-4390-ac68-bed8bf3b0e70",
   "metadata": {},
   "source": [
    "`numpy.int64` is not the standard Python integer type `int`.\n",
    "\n",
    "`numpy.int64` is a special data type in Numpy telling us that 1 is an integer stored as a 64-bit number.\n",
    "\n",
    "Check-in: access the value 5 in array `a`."
   ]
  },
  {
   "cell_type": "code",
   "execution_count": 8,
   "id": "9bbdd93d-9b2e-4077-9e10-7bf8c2477e44",
   "metadata": {
    "tags": []
   },
   "outputs": [
    {
     "name": "stdout",
     "output_type": "stream",
     "text": [
      "5\n"
     ]
    }
   ],
   "source": [
    "print(a[1,1])"
   ]
  },
  {
   "cell_type": "markdown",
   "id": "22846902-9c33-4a7e-a08f-c28889ef77ce",
   "metadata": {},
   "source": [
    "## Functions\n",
    "\n",
    "`print` was our first example of a Python **function**\n",
    "\n",
    "Functions take in a set of **arguments**, separated by commas, and us those arguments to create an **output**.\n",
    "\n",
    "In the course we'll be using argument and parameter interchangebly. But they do have slightly different meanings.\n",
    "\n",
    "We can ask for info about what a function does by executing `?` "
   ]
  },
  {
   "cell_type": "code",
   "execution_count": 9,
   "id": "2ad5a781-950a-4709-9a2a-97a7720afd04",
   "metadata": {
    "tags": []
   },
   "outputs": [
    {
     "data": {
      "text/plain": [
       "\u001b[0;31mDocstring:\u001b[0m\n",
       "print(value, ..., sep=' ', end='\\n', file=sys.stdout, flush=False)\n",
       "\n",
       "Prints the values to a stream, or to sys.stdout by default.\n",
       "Optional keyword arguments:\n",
       "file:  a file-like object (stream); defaults to the current sys.stdout.\n",
       "sep:   string inserted between values, default a space.\n",
       "end:   string appended after the last value, default a newline.\n",
       "flush: whether to forcibly flush the stream.\n",
       "\u001b[0;31mType:\u001b[0m      builtin_function_or_method\n"
      ]
     },
     "metadata": {},
     "output_type": "display_data"
    }
   ],
   "source": [
    "?print"
   ]
  },
  {
   "cell_type": "markdown",
   "id": "58d68e81-679f-44a6-9a11-e95a205d4b8b",
   "metadata": {},
   "source": [
    "What we obtain is a **docstring**, a special type of comment that is used to document how a function (or a class, or module) works.\n",
    "\n",
    "Notice that there are different types of arguments inside the function's parenthesis.\n",
    "\n",
    "Roughly speaking, a function has two types of arguments:\n",
    "\n",
    "- **non-optional arguments:** arguments *you* have to specify for the function to work\n",
    "- **optional arguments:** arguments that are pre-filled with a default value by the function, but you can override them. Optional arguments appear inside the parentheses () in the form `optional_argument = default_value.`"
   ]
  },
  {
   "cell_type": "markdown",
   "id": "bb55d93f-5531-46a6-a342-d82001c16ca6",
   "metadata": {},
   "source": [
    "Example:\n",
    "\n",
    "`end` is a parameter in `print` with default value a new line.\n",
    "\n",
    "We can pass the value `:-)` to this parameter so that it finishes the line with`:-)` instead:"
   ]
  },
  {
   "cell_type": "markdown",
   "id": "85867198-3948-45b0-91e5-28af624df4a1",
   "metadata": {
    "tags": []
   },
   "source": [
    "print('Change the end parameter', end = `:-)`)"
   ]
  },
  {
   "cell_type": "markdown",
   "id": "1c071c19-65e6-43d2-866a-5d35a901d4ec",
   "metadata": {},
   "source": [
    "## Attributes and methods\n",
    "\n",
    "An object in Python has attributes and methods.\n",
    "\n",
    "- **attribute:** a property of the object, some piece of information about it\n",
    "- **method:** a procedure associated with an object, so it is an action where the main ingredient is the object itself\n",
    "\n",
    "Example:\n",
    "\n",
    "NumPy arrays have many methods and attributes."
   ]
  },
  {
   "cell_type": "code",
   "execution_count": 10,
   "id": "4b9d9450-c0ea-49ec-bd09-72255dc2ee35",
   "metadata": {
    "tags": []
   },
   "outputs": [
    {
     "data": {
      "text/plain": [
       "array([[1, 1, 2],\n",
       "       [3, 5, 8]])"
      ]
     },
     "execution_count": 10,
     "metadata": {},
     "output_type": "execute_result"
    }
   ],
   "source": [
    "a"
   ]
  },
  {
   "cell_type": "code",
   "execution_count": 11,
   "id": "c1082ef9-83a7-4543-8830-4c26c4509927",
   "metadata": {
    "tags": []
   },
   "outputs": [
    {
     "name": "stdout",
     "output_type": "stream",
     "text": [
      "[[1 3]\n",
      " [1 5]\n",
      " [2 8]]\n"
     ]
    }
   ],
   "source": [
    "# T is an example of an attribute, it returns the transpose of array\n",
    "print(a.T)"
   ]
  },
  {
   "cell_type": "code",
   "execution_count": 12,
   "id": "c5b11b99-10e5-4d78-9892-c1e270e33a2a",
   "metadata": {
    "tags": []
   },
   "outputs": [
    {
     "data": {
      "text/plain": [
       "numpy.ndarray"
      ]
     },
     "execution_count": 12,
     "metadata": {},
     "output_type": "execute_result"
    }
   ],
   "source": [
    "type(a.T)"
   ]
  },
  {
   "cell_type": "code",
   "execution_count": 13,
   "id": "df1f3de2-6615-4623-bd8d-cbc16dc7a688",
   "metadata": {
    "tags": []
   },
   "outputs": [
    {
     "name": "stdout",
     "output_type": "stream",
     "text": [
      "(2, 3)\n",
      "<class 'tuple'>\n"
     ]
    }
   ],
   "source": [
    "# Shape is another attribute that tells us the shape of the array\n",
    "print(a.shape)\n",
    "print(type(a.shape))"
   ]
  },
  {
   "cell_type": "code",
   "execution_count": 14,
   "id": "ee34600d-1211-4b37-ad6e-4c954f4b02ea",
   "metadata": {
    "tags": []
   },
   "outputs": [
    {
     "name": "stdout",
     "output_type": "stream",
     "text": [
      "dim: 2 | type:  <class 'int'>\n"
     ]
    }
   ],
   "source": [
    "# ndim is an attribute holding the number of array dimensions\n",
    "print('dim:', a.ndim, '| type: ', type(a.ndim))"
   ]
  },
  {
   "cell_type": "markdown",
   "id": "560ff573-36a0-4197-a9aa-897af64f0c12",
   "metadata": {},
   "source": [
    "Attributed can have many different data types.\n",
    "\n",
    "Some examples of methods."
   ]
  },
  {
   "cell_type": "code",
   "execution_count": 15,
   "id": "67100279-ac22-413f-a17e-059f96bcbe50",
   "metadata": {
    "tags": []
   },
   "outputs": [
    {
     "name": "stdout",
     "output_type": "stream",
     "text": [
      "[[1 1 2]\n",
      " [3 5 8]]\n"
     ]
    },
    {
     "data": {
      "text/plain": [
       "array([1, 1, 2])"
      ]
     },
     "execution_count": 15,
     "metadata": {},
     "output_type": "execute_result"
    }
   ],
   "source": [
    "# The min method returns the minimum value in the array along a specified axis\n",
    "print(a)\n",
    "a.min(axis = 0)"
   ]
  },
  {
   "cell_type": "code",
   "execution_count": 16,
   "id": "0989bc68-6980-4d84-8e90-98ca16c32f2b",
   "metadata": {
    "tags": []
   },
   "outputs": [
    {
     "data": {
      "text/plain": [
       "1"
      ]
     },
     "execution_count": 16,
     "metadata": {},
     "output_type": "execute_result"
    }
   ],
   "source": [
    "# Run min method with axis\n",
    "a.min()"
   ]
  },
  {
   "cell_type": "markdown",
   "id": "9a2cf254-49fe-4df6-b065-7ba58d438905",
   "metadata": {},
   "source": [
    "Remember, methods are **functions** associated with an object. We can confirm this!"
   ]
  },
  {
   "cell_type": "code",
   "execution_count": 17,
   "id": "0a4d6c59-0724-4710-8cc6-0278ee82306a",
   "metadata": {
    "tags": []
   },
   "outputs": [
    {
     "data": {
      "text/plain": [
       "[[1, 1, 2], [3, 5, 8]]"
      ]
     },
     "execution_count": 17,
     "metadata": {},
     "output_type": "execute_result"
    }
   ],
   "source": [
    "# Metohd tolist() transform array into a list\n",
    "a.tolist()"
   ]
  },
  {
   "cell_type": "code",
   "execution_count": 18,
   "id": "4a7a5c5d-8913-40eb-a690-18b3b03c6e78",
   "metadata": {
    "tags": []
   },
   "outputs": [
    {
     "data": {
      "text/plain": [
       "builtin_function_or_method"
      ]
     },
     "execution_count": 18,
     "metadata": {},
     "output_type": "execute_result"
    }
   ],
   "source": [
    "type(a.tolist)"
   ]
  },
  {
   "cell_type": "markdown",
   "id": "834a2441-6ff0-45aa-8e7d-b54e8403d9b7",
   "metadata": {},
   "source": [
    "## Exercise"
   ]
  },
  {
   "cell_type": "code",
   "execution_count": 19,
   "id": "04fd80a2-d86b-4502-b13b-e178fb81b6c5",
   "metadata": {
    "tags": []
   },
   "outputs": [
    {
     "data": {
      "text/plain": [
       "\u001b[0;31mDocstring:\u001b[0m\n",
       "print(value, ..., sep=' ', end='\\n', file=sys.stdout, flush=False)\n",
       "\n",
       "Prints the values to a stream, or to sys.stdout by default.\n",
       "Optional keyword arguments:\n",
       "file:  a file-like object (stream); defaults to the current sys.stdout.\n",
       "sep:   string inserted between values, default a space.\n",
       "end:   string appended after the last value, default a newline.\n",
       "flush: whether to forcibly flush the stream.\n",
       "\u001b[0;31mType:\u001b[0m      builtin_function_or_method\n"
      ]
     },
     "metadata": {},
     "output_type": "display_data"
    }
   ],
   "source": [
    "?print \n",
    "# argument type: builtin_function_or_method"
   ]
  },
  {
   "cell_type": "code",
   "execution_count": 20,
   "id": "f5e0bdc0-3aba-4793-a8d4-78fc37df12cc",
   "metadata": {
    "tags": []
   },
   "outputs": [
    {
     "data": {
      "text/plain": [
       "str"
      ]
     },
     "execution_count": 20,
     "metadata": {},
     "output_type": "execute_result"
    }
   ],
   "source": [
    "num = 77\n",
    "string_99 = \"99\"\n",
    "\n",
    "type(num)\n",
    "type(string_99)"
   ]
  },
  {
   "cell_type": "code",
   "execution_count": 21,
   "id": "a28e7f71-42b8-421f-a668-a2441fcefdb0",
   "metadata": {
    "tags": []
   },
   "outputs": [
    {
     "name": "stdout",
     "output_type": "stream",
     "text": [
      "77%99%77\n"
     ]
    }
   ],
   "source": [
    "print(num, string_99, num, sep = \"%\")"
   ]
  }
 ],
 "metadata": {
  "kernelspec": {
   "display_name": "Anaconda 3 (Base)",
   "language": "python",
   "name": "base"
  },
  "language_info": {
   "codemirror_mode": {
    "name": "ipython",
    "version": 3
   },
   "file_extension": ".py",
   "mimetype": "text/x-python",
   "name": "python",
   "nbconvert_exporter": "python",
   "pygments_lexer": "ipython3",
   "version": "3.9.13"
  }
 },
 "nbformat": 4,
 "nbformat_minor": 5
}
